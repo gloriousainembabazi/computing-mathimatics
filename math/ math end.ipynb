{
 "cells": [
  {
   "cell_type": "markdown",
   "id": "df2b21a8-3ea0-4f8b-bcb8-e3f8043a1702",
   "metadata": {},
   "source": [
    "# 2024/DSC/004/SS"
   ]
  },
  {
   "cell_type": "markdown",
   "id": "85c97650-3dc4-4c5f-9e65-b8b0c35db934",
   "metadata": {},
   "source": [
    "# question 5"
   ]
  },
  {
   "cell_type": "code",
   "execution_count": 22,
   "id": "7ffe59ae-1206-42a7-a684-f40b3da07699",
   "metadata": {},
   "outputs": [],
   "source": [
    "import numpy as np\n"
   ]
  },
  {
   "cell_type": "code",
   "execution_count": 23,
   "id": "66c39efd-d9c5-4926-b0a2-169afaf0e6fa",
   "metadata": {},
   "outputs": [
    {
     "name": "stdout",
     "output_type": "stream",
     "text": [
      "[[1.  0.2 0.5]\n",
      " [0.2 1.  0.8]\n",
      " [0.5 0.8 1. ]]\n"
     ]
    }
   ],
   "source": [
    "matric = np.array([[1,0.2,0.5],[0.2,1,0.8],[0.5,0.8,1]])\n",
    "print(matric)"
   ]
  },
  {
   "cell_type": "markdown",
   "id": "79d027aa-dcdc-4d13-8659-44bcf171c262",
   "metadata": {},
   "source": [
    "# (i)"
   ]
  },
  {
   "cell_type": "code",
   "execution_count": 24,
   "id": "e1184bfc-50b6-4655-bdd4-bfbe08a13d60",
   "metadata": {},
   "outputs": [
    {
     "name": "stdout",
     "output_type": "stream",
     "text": [
      "[[ 1.56521739  0.86956522 -1.47826087]\n",
      " [ 0.86956522  3.26086957 -3.04347826]\n",
      " [-1.47826087 -3.04347826  4.17391304]]\n"
     ]
    }
   ],
   "source": [
    "matric = np.array([[1,0.2,0.5],[0.2,1,0.8],[0.5,0.8,1]])\n",
    "matric_inv = np.linalg.inv(matric)\n",
    "print(matric_inv)\n"
   ]
  },
  {
   "cell_type": "markdown",
   "id": "f36a34ee-204d-45d8-9f48-ac26001a5700",
   "metadata": {},
   "source": [
    "# (ii)"
   ]
  },
  {
   "cell_type": "code",
   "execution_count": 25,
   "id": "8bd40c56-d52e-4f43-be81-a17ca71cf735",
   "metadata": {},
   "outputs": [
    {
     "name": "stdout",
     "output_type": "stream",
     "text": [
      "0.2299999999999999\n"
     ]
    }
   ],
   "source": [
    "matric = np.array([[1,0.2,0.5],[0.2,1,0.8],[0.5,0.8,1]])\n",
    "det_matric =np.linalg.det(matric)\n",
    "print(det_matric)"
   ]
  },
  {
   "cell_type": "markdown",
   "id": "340ea8d5-0dd2-4fca-bf19-9a165f2987e7",
   "metadata": {},
   "source": [
    "# (iii)"
   ]
  },
  {
   "cell_type": "code",
   "execution_count": 26,
   "id": "d1fee48b-8b95-4d0c-b500-d318ba733491",
   "metadata": {},
   "outputs": [
    {
     "name": "stdout",
     "output_type": "stream",
     "text": [
      "[[1.         0.         0.        ]\n",
      " [0.2        0.9797959  0.        ]\n",
      " [0.5        0.71443451 0.48947251]]\n"
     ]
    }
   ],
   "source": [
    "matric = np.array([[1,0.2,0.5],[0.2,1,0.8],[0.5,0.8,1]])\n",
    "L=np.linalg.cholesky(matric)\n",
    "print(L)"
   ]
  },
  {
   "cell_type": "code",
   "execution_count": 27,
   "id": "d994f7b4-9465-46c6-a7d8-093f6ba9e248",
   "metadata": {},
   "outputs": [
    {
     "name": "stdout",
     "output_type": "stream",
     "text": [
      "QRResult(Q=array([[-0.88045091,  0.38615039, -0.27512557],\n",
      "       [-0.17609018, -0.80507368, -0.566435  ],\n",
      "       [-0.44022545, -0.4502713 ,  0.77682515]]), R=array([[-1.13578167, -0.70436073, -1.02132305],\n",
      "       [ 0.        , -1.08806065, -0.90125505],\n",
      "       [ 0.        ,  0.        ,  0.18611436]]))\n"
     ]
    }
   ],
   "source": [
    "matric = np.array([[1,0.2,0.5],[0.2,1,0.8],[0.5,0.8,1]])\n",
    "QR =np.linalg.qr(matric)\n",
    "print(QR)"
   ]
  },
  {
   "cell_type": "markdown",
   "id": "3a498ecb-429b-45cb-be98-72efbe0d5800",
   "metadata": {},
   "source": [
    "# (iv)"
   ]
  },
  {
   "cell_type": "code",
   "execution_count": 28,
   "id": "2a469709-a70d-4b90-92c9-150156e061ab",
   "metadata": {},
   "outputs": [],
   "source": [
    "# matrces can be transformed in terms of transpose, inverses, decomposition"
   ]
  },
  {
   "cell_type": "code",
   "execution_count": 29,
   "id": "c91fb073-c17f-4b91-8a4d-a8c1ec7f57c6",
   "metadata": {},
   "outputs": [
    {
     "name": "stdout",
     "output_type": "stream",
     "text": [
      "[[ 1.56521739  0.86956522 -1.47826087]\n",
      " [ 0.86956522  3.26086957 -3.04347826]\n",
      " [-1.47826087 -3.04347826  4.17391304]]\n"
     ]
    }
   ],
   "source": [
    "matric = np.array([[1,0.2,0.5],[0.2,1,0.8],[0.5,0.8,1]])\n",
    "inv= np.linalg.inv(matric)\n",
    "print(inv)"
   ]
  },
  {
   "cell_type": "code",
   "execution_count": 30,
   "id": "13068036-85d2-4495-abc4-36230753c267",
   "metadata": {},
   "outputs": [
    {
     "name": "stdout",
     "output_type": "stream",
     "text": [
      "[[1.  0.2 0.5]\n",
      " [0.2 1.  0.8]\n",
      " [0.5 0.8 1. ]]\n"
     ]
    }
   ],
   "source": [
    "matric = np.array([[1,0.2,0.5],[0.2,1,0.8],[0.5,0.8,1]])\n",
    "transform =np.transpose(matric)\n",
    "print(transform)"
   ]
  },
  {
   "cell_type": "code",
   "execution_count": 31,
   "id": "b13cb98c-47f6-4f43-ab1f-73e65a9371cd",
   "metadata": {},
   "outputs": [
    {
     "name": "stdout",
     "output_type": "stream",
     "text": [
      "[[1.         0.         0.        ]\n",
      " [0.2        0.9797959  0.        ]\n",
      " [0.5        0.71443451 0.48947251]]\n"
     ]
    }
   ],
   "source": [
    "matric = np.array([[1,0.2,0.5],[0.2,1,0.8],[0.5,0.8,1]])\n",
    "transform =np.linalg.cholesky(matric)\n",
    "print(transform)"
   ]
  },
  {
   "cell_type": "markdown",
   "id": "c21d3353-6d41-41fa-9dde-4da51b08bffb",
   "metadata": {},
   "source": [
    "# question 6"
   ]
  },
  {
   "cell_type": "markdown",
   "id": "f94c736c-0fc4-4579-afd8-6be39c656fbf",
   "metadata": {},
   "source": [
    "# (i)"
   ]
  },
  {
   "cell_type": "code",
   "execution_count": 32,
   "id": "343889ed-c4f2-45f5-b66e-b8529306227b",
   "metadata": {},
   "outputs": [],
   "source": [
    "from numpy import random"
   ]
  },
  {
   "cell_type": "code",
   "execution_count": 33,
   "id": "87432ca4-f0b3-4dfb-9904-1c625409a1d4",
   "metadata": {},
   "outputs": [
    {
     "name": "stdout",
     "output_type": "stream",
     "text": [
      "[4 6 3 5 7]\n"
     ]
    }
   ],
   "source": [
    "x =random.poisson(lam=5,size=5)\n",
    "print(x)\n"
   ]
  },
  {
   "cell_type": "code",
   "execution_count": 34,
   "id": "c725f3ff-b0c9-4aa6-bf8d-dc178a951ac8",
   "metadata": {},
   "outputs": [],
   "source": [
    "from numpy import random"
   ]
  },
  {
   "cell_type": "code",
   "execution_count": 35,
   "id": "ccb0cdcf-221a-457f-9826-fff94aabb99c",
   "metadata": {},
   "outputs": [
    {
     "name": "stdout",
     "output_type": "stream",
     "text": [
      "[ 2  2  3  3  8  4  2  1  3  4  7  3  1  6  3  7  4  9  7  2  8  8  2  8\n",
      " 12  5  1  5  3  4  7  2  3  4  4  8  6  5  0  4  9  6  4  3  3  5  3  4\n",
      " 11  4  3  7  6  5  7  1  6  2  7  7  7  2  3  4  5  2  8  3 10  7  6  4\n",
      "  0  5  5  4  6  7  6  1  4  3  3  8  5  8  4  2  1  7  4  3  2  0  1 10\n",
      "  4  4  3  6  5  5  2  5  3  2  5  8  6  6  4  2  3  4  7  3  3  5  4  7\n",
      "  3 10  2  2  3  6  6  7  6  9  6  5  5  4  5  1  8  0  5  2  2  4  7  4\n",
      "  4  4  6  6  6  5  7  4  5  2  6  6  5  4  8  2  2  7  5  5  7  7  3  7\n",
      "  0  3  5  3  6  2  3  7  7  3  5  4  4  8  4  6  8  4  4  3  6  3  6  3\n",
      "  9  4  6  4  3  8  3  4  2  4  5  3  7  7  6  3  7  2  5  7  3  6  3  6\n",
      "  3  4  3  5  3  6  6  8  7  3  4  5 11  6  2  2  8  3  5  4  6  6  6  5\n",
      "  6  4  5  4  2  4  7  3  2  2  4  2  5 10  2 10  5  2  8  4  9  5  3  4\n",
      "  4  4  8  3  4  5  3  6  1  8  8  6  3  3  8  6  7  4  3  4  5  4  4  4\n",
      " 10  2  1  2  9  4  4 11  6  3  4  2  7  6  5  5  2  6  7  5  7  3  9  5\n",
      "  7  3  4  8  3  3  4  6  5  5  3  6  5  5  5  4  4  1  6  5  3  4  1  3\n",
      "  3  4  3  6  2 10  9 10  3  5  4  5  8  5  8  5  8 13  4  3  4  7  6  0\n",
      "  5  0  3  8  3  8  3  7  1  2  3  6  4  5  5  6  2  5  2  5  6  6  6  7\n",
      "  9  2  6  3  4  6  5  8  5  7  9  5  8  2  1  6  4  6  6  5  7  6  4  2\n",
      "  4  7 11  7  1  3  8  6  1  4  6  6  5  3  5 11  4  5  6  2  3  3  4  8\n",
      "  4  7  5  5  8  5 10  4  4  6  4  5  6  4  5  9  4  3  8  6  2  2  5  7\n",
      "  7  8  6  4  6  7  5  5  5  0  5  2  6  4  5  5  5  4  5  0  7  7  3  5\n",
      "  1  5  9  8  4  6  5  6  3  8  4  1  5 10  3  4  1  8  9  7  6  1  2  3\n",
      "  6  2  6  6  2  8  5  7  6  7  8  2  1  6  3  5  4  8  9  6  7  5  1  5\n",
      "  2  2  2  9  6  1  7  4  5  5  5  3  5  2  6  5  5  6  4  8  8  7  5  7\n",
      "  5  2  4  5  7  5 10  2  7  3  7  4  5  6  6  9  5  5  5  8  5  2  4  7\n",
      "  2  3  2  7  4  3  3  6  4  4  3  9 11  5 10  3  8 10  6  4  3  1  5  1\n",
      "  0  7  7  7  7  2  6  5  5  8  6  4  8  5  6  5  3  3  3  9  3  1  2  5\n",
      "  7  8  3  5  6  7  9  6  4  7  6  6  5  9  8  3  4  5  4  1  5  1  3  4\n",
      "  5  5  4  5  3  4  3  3  8  9  3  6  4  4  5  5  9  3  5  5  9  4  3  5\n",
      "  6  6  3  5  8  5  1  3  7  3  7 11  5 11  0  1  3  6  5  7  5  5  7  6\n",
      "  6  7  4  7  2  5  4  6  4  2  5  2  8  3  8  9  6  7  4  2  1  5  8  7\n",
      "  4  4  2  2  2  2  3  6  9  7  2  5  7  7  2  2  6  7  5  4  2  5  6 10\n",
      " 10  4  3  6  4  3 10  2  3  4  4  4  3  4  2  3  3  9  1 10  6  5  9  6\n",
      "  7 10  3  5  3  5  6  4  8  6  5  6  5  1  0  5  5  5 13  4  6  7  4  5\n",
      "  2  9  6  4  3  1  6  3  5  3  4  3  5  1  4  5  7  7  8  3  5  5  1  3\n",
      "  0  3  5  0 10  7  6  7  3  4  2  2  8  4  5  4  6  8  4  4  2  3  4  5\n",
      "  5  0  2  2  7 10  9  4  6  3  8  8  4  3  7  5  9  5  4  5  6  8  2  0\n",
      "  4  4  6 10  7  5  3  5  5  7  4  9  6  2  2  4  3  4  2  2  5  5  2  4\n",
      "  4  7  7  3  6  1  5  7  5  7  3  9  5  3 12  8  4  7  6  2  4  7  7  5\n",
      "  8  6  3  4  6  3  6  8  5  1  4  7  5  3  3  6  8  5  5  3  5  4  8  7\n",
      "  5  5  6  5  5  8  8  6  6  3  3 10  5  4  5  4  5  6  5  5  3  3  3 11\n",
      "  5  9  5  4  6  8  3  2  2  2 10  6  5  3  2  7  7  7  5  2  4  4  5  8\n",
      "  6  6  7  5  4  3  1  5  6  6  2  9  4  7  6  6]\n"
     ]
    }
   ],
   "source": [
    "\n",
    "x =random.poisson(lam =5,size =1000)\n",
    "print(x)"
   ]
  },
  {
   "cell_type": "markdown",
   "id": "a9fc94c9-068c-44a1-98d7-e53c80900b39",
   "metadata": {},
   "source": [
    "# (ii)"
   ]
  },
  {
   "cell_type": "markdown",
   "id": "2288addf-f21f-4b52-a2dc-985da70d11c5",
   "metadata": {},
   "source": [
    "# mean"
   ]
  },
  {
   "cell_type": "code",
   "execution_count": 36,
   "id": "5973774a-1b14-4b44-93db-04f899be58d6",
   "metadata": {},
   "outputs": [],
   "source": [
    "import numpy as np"
   ]
  },
  {
   "cell_type": "code",
   "execution_count": 37,
   "id": "249935fd-836a-437f-9dcd-0e67e18108e1",
   "metadata": {},
   "outputs": [
    {
     "name": "stdout",
     "output_type": "stream",
     "text": [
      "4.926\n"
     ]
    }
   ],
   "source": [
    "x_mean =np.mean(x)\n",
    "print(x_mean)"
   ]
  },
  {
   "cell_type": "markdown",
   "id": "640126a1-c41a-4916-b080-9f00173c619a",
   "metadata": {},
   "source": [
    "# variance"
   ]
  },
  {
   "cell_type": "code",
   "execution_count": 21,
   "id": "915dd21c-bf39-41eb-b028-1e55c9ac8572",
   "metadata": {},
   "outputs": [
    {
     "name": "stdout",
     "output_type": "stream",
     "text": [
      "4.950790999999999\n"
     ]
    }
   ],
   "source": [
    "x_var =np.var(x)\n",
    "print(x_var)"
   ]
  },
  {
   "cell_type": "markdown",
   "id": "b8ab7a77-9a11-48e5-a25d-c0c4a0f8622e",
   "metadata": {},
   "source": [
    "# (iii)"
   ]
  },
  {
   "cell_type": "code",
   "execution_count": 39,
   "id": "bc3a56ee-dee4-482a-aa5a-97fa65fbf398",
   "metadata": {},
   "outputs": [],
   "source": [
    "import seaborn as sns"
   ]
  },
  {
   "cell_type": "code",
   "execution_count": 40,
   "id": "e5970614-4c0f-40b3-9d0b-23c0413dd891",
   "metadata": {},
   "outputs": [],
   "source": [
    "import matplotlib.pyplot as plt"
   ]
  },
  {
   "cell_type": "code",
   "execution_count": 41,
   "id": "5810572d-9ab1-4efb-bb73-4b1b68a537c8",
   "metadata": {},
   "outputs": [
    {
     "data": {
      "image/png": "[encoded data removed]",
      "text/plain": [
       "<Figure size 640x480 with 1 Axes>"
      ]
     },
     "metadata": {},
     "output_type": "display_data"
    }
   ],
   "source": [
    "poisson_data =random.poisson(lam=5,size=5)\n",
    "sns.histplot(poisson_data,bins=5,kde=False,color=\"purple\")\n",
    "plt.xlabel('customers per day')\n",
    "plt.ylabel('Average')\n",
    "plt.title(\" A histogram of the samples to visual distribution\")\n",
    "plt.show()"
   ]
  },
  {
   "cell_type": "code",
   "execution_count": null,
   "id": "33118b4d-2b3e-4dfb-bbcd-f0c3fcb3cca1",
   "metadata": {},
   "outputs": [],
   "source": []
  }
 ],
 "metadata": {
  "kernelspec": {
   "display_name": "Python 3 (ipykernel)",
   "language": "python",
   "name": "python3"
  },
  "language_info": {
   "codemirror_mode": {
    "name": "ipython",
    "version": 3
   },
   "file_extension": ".py",
   "mimetype": "text/x-python",
   "name": "python",
   "nbconvert_exporter": "python",
   "pygments_lexer": "ipython3",
   "version": "3.13.0"
  }
 },
 "nbformat": 4,
 "nbformat_minor": 5
}
